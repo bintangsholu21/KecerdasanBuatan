{
  "nbformat": 4,
  "nbformat_minor": 0,
  "metadata": {
    "colab": {
      "provenance": [],
      "collapsed_sections": [],
      "authorship_tag": "ABX9TyMHOsgk2xCOu8vDRoSgfPlY",
      "include_colab_link": true
    },
    "kernelspec": {
      "name": "python3",
      "display_name": "Python 3"
    },
    "language_info": {
      "name": "python"
    }
  },
  "cells": [
    {
      "cell_type": "markdown",
      "metadata": {
        "id": "view-in-github",
        "colab_type": "text"
      },
      "source": [
        "<a href=\"https://colab.research.google.com/github/bintangsholu21/KecerdasanBuatan/blob/main/21_M_Bintang_Sholu_Firmansyah_Informed_Search.ipynb\" target=\"_parent\"><img src=\"https://colab.research.google.com/assets/colab-badge.svg\" alt=\"Open In Colab\"/></a>"
      ]
    },
    {
      "cell_type": "markdown",
      "source": [
        "2.1.1. Praktikum. Percobaan 1: A* Search"
      ],
      "metadata": {
        "id": "24lzOfJiJDOR"
      }
    },
    {
      "cell_type": "code",
      "execution_count": 1,
      "metadata": {
        "id": "h212dd8UqPvG",
        "colab": {
          "base_uri": "https://localhost:8080/"
        },
        "outputId": "0a2b1cc4-d9aa-4596-cfb0-010f478d7cea"
      },
      "outputs": [
        {
          "output_type": "stream",
          "name": "stdout",
          "text": [
            "Path found: ['A', 'B', 'D']\n"
          ]
        },
        {
          "output_type": "execute_result",
          "data": {
            "text/plain": [
              "['A', 'B', 'D']"
            ]
          },
          "metadata": {},
          "execution_count": 1
        }
      ],
      "source": [
        "class Graph:\n",
        "\n",
        "    def __init__(self, adjacency_list):\n",
        "      self.adjacency_list = adjacency_list\n",
        "\n",
        "    def get_neighbors(self, v):\n",
        "      return self.adjacency_list[v]\n",
        "\n",
        "    def h(self, n):\n",
        "      H = {\n",
        "          'A' : 1,\n",
        "          'B' : 1,\n",
        "          'C' : 1,\n",
        "          'D' : 1\n",
        "      }\n",
        "\n",
        "      return H[n]\n",
        "\n",
        "    def a_star_algorithm(self, start_node, stop_node):\n",
        "      open_list = set([start_node])\n",
        "      closed_list = set([])\n",
        "\n",
        "      g = {}\n",
        "\n",
        "      g[start_node] = 0\n",
        "\n",
        "      parents = {}\n",
        "      parents[start_node] = start_node\n",
        "\n",
        "      while len(open_list) > 0:\n",
        "        n = None\n",
        "\n",
        "        for v in open_list:\n",
        "          if n == None or g[v] + self.h(v) < g[n] + self.h(n):\n",
        "            n = v;\n",
        "        if n == None:\n",
        "          print('Path does not exist!')\n",
        "          return None\n",
        "        \n",
        "        if n == stop_node:\n",
        "          reconst_path = []\n",
        "\n",
        "          while parents[n] != n:\n",
        "            reconst_path.append(n)\n",
        "            n = parents[n]\n",
        "\n",
        "          reconst_path.append(start_node)\n",
        "\n",
        "          reconst_path.reverse()\n",
        "\n",
        "          print('Path found: {}'.format(reconst_path))\n",
        "          return reconst_path\n",
        "\n",
        "        for (m, weight) in self.get_neighbors(n):\n",
        "          if m not in open_list and m not in closed_list:\n",
        "            open_list.add(m)\n",
        "            parents[m] = n\n",
        "            g[m] = g[n] + weight\n",
        "          \n",
        "          else:\n",
        "            if g[m] > g[n] + weight:\n",
        "              g[m] = g[n] + weight\n",
        "              parents[m] = n\n",
        "\n",
        "              if m in closed_list:\n",
        "                closed_list.remove(m)\n",
        "                open_list.add(m)\n",
        "\n",
        "        open_list.remove(n)\n",
        "        closed_list.add(n)\n",
        "      \n",
        "      print('Path does not exist!')\n",
        "      return None\n",
        "\n",
        "\n",
        "adjacency_list = {\n",
        "    'A' : [('B', 1), ('C', 3), ('D', 7)],\n",
        "    'B' : [('D', 5)],\n",
        "    'C' : [('D', 12)]\n",
        "}\n",
        "graph1 = Graph(adjacency_list)\n",
        "graph1.a_star_algorithm('A', 'D')"
      ]
    },
    {
      "cell_type": "markdown",
      "source": [
        "2.1.3. Tugas"
      ],
      "metadata": {
        "id": "3FqQnYaUJgB2"
      }
    },
    {
      "cell_type": "code",
      "source": [
        "DAG = {\n",
        "    'A': {'C': 4, 'G': 9}, \n",
        "    'G': {'E': 6}, \n",
        "    'C': {'D': 6, 'H': 12}, \n",
        "    'D': {'E': 7}, \n",
        "    'H': {'F': 15}, \n",
        "    'E': {'F': 8}, \n",
        "    'F': {'B': 5}}\n",
        "\n",
        "def shortest_path(graph, source, dest): \n",
        "  result = [] \n",
        "  result.append(source) \n",
        "  \n",
        "  while dest not in result: \n",
        "    current_node = result[-1]\n",
        "    local_max = min(graph[current_node].values()) \n",
        "    for node, weight in graph[current_node].items(): \n",
        "      if weight == local_max: \n",
        "        result.append(node) \n",
        "  return result\n",
        "\n",
        "print(\"Hasil Greedy Search :\")\n",
        "print(shortest_path(DAG, 'A','D'))"
      ],
      "metadata": {
        "colab": {
          "base_uri": "https://localhost:8080/"
        },
        "id": "eoIskMjUJkkr",
        "outputId": "a7e5da1b-a3fd-4aa0-86ba-0fecc8056097"
      },
      "execution_count": 2,
      "outputs": [
        {
          "output_type": "stream",
          "name": "stdout",
          "text": [
            "Hasil Greedy Search :\n",
            "['A', 'C', 'D']\n"
          ]
        }
      ]
    },
    {
      "cell_type": "markdown",
      "source": [
        "2.2.1. Praktikum. Percobaan 2: Implementasi Algoritma Greedy"
      ],
      "metadata": {
        "id": "kVDhOQoIJtSk"
      }
    },
    {
      "cell_type": "code",
      "source": [
        "DAG = {\n",
        "    'A': {'C': 4, 'G': 9}, \n",
        "    'G': {'E': 6}, \n",
        "    'C': {'D': 6, 'H': 12}, \n",
        "    'D': {'E': 7}, \n",
        "    'H': {'F': 15}, \n",
        "    'E': {'F': 8}, \n",
        "    'F': {'B': 5}}\n",
        "\n",
        "def shortest_path(graph, source, dest): \n",
        "  result = [] \n",
        "  result.append(source) \n",
        "  \n",
        "  while dest not in result: \n",
        "    current_node = result[-1]\n",
        "    local_max = min(graph[current_node].values()) \n",
        "    for node, weight in graph[current_node].items(): \n",
        "      if weight == local_max: \n",
        "        result.append(node) \n",
        "  return result\n",
        "\n",
        "print(\"Hasil Greedy Search :\")\n",
        "print(shortest_path(DAG, 'A','F'))"
      ],
      "metadata": {
        "colab": {
          "base_uri": "https://localhost:8080/"
        },
        "id": "02kaBJCMJw76",
        "outputId": "cefa2ed0-dbb0-4a8d-f182-c814785625fe"
      },
      "execution_count": 3,
      "outputs": [
        {
          "output_type": "stream",
          "name": "stdout",
          "text": [
            "Hasil Greedy Search :\n",
            "['A', 'C', 'D', 'E', 'F']\n"
          ]
        }
      ]
    },
    {
      "cell_type": "markdown",
      "source": [
        "3.3. Praktikum. Menyelesaikan Knapsack Problem dengan Algoritma Greedy"
      ],
      "metadata": {
        "id": "ahP7-rE-J4Uu"
      }
    },
    {
      "cell_type": "code",
      "source": [
        "from operator import itemgetter, attrgetter\n",
        "w = [3,4,1,7,6,8,9]\n",
        "p = [4,5,2,5,5,8,11]\n",
        "item = [[3,4],[4,5],[1,2],[7,5],[6,5],[8,8],[9,11]]\n",
        "\n",
        "i=0\n",
        "while i<len(item):\n",
        "    hasil = item[i][1]/item[i][0]\n",
        "    item[i].append(hasil)\n",
        "    i += 1\n",
        "\n",
        "data = sorted(item,key=itemgetter(2), reverse = True)\n",
        "\n",
        "def knapsack(data,cap,flag):\n",
        "    total=0\n",
        "    tres = \"\"\n",
        "    if(flag==0):\n",
        "        dataS = sorted(data,key=itemgetter(flag), reverse = True)\n",
        "        tres=\"bobot prioritas : \"\n",
        "    elif(flag==1):\n",
        "        dataS = sorted(data, key=itemgetter(flag), reverse = True)\n",
        "        tres=\"keuntungan prioritas : \"\n",
        "    elif(flag==2):\n",
        "        dataS = sorted(data,key=itemgetter(flag), reverse = True)\n",
        "        tres=\"p prioritas : \"\n",
        "    else:\n",
        "        return \"Error\"\n",
        "\n",
        "    j=0\n",
        "    hasil=0\n",
        "    #print(\"sini\")\n",
        "    cek=0\n",
        "    weight=0\n",
        "    while(j<len(dataS)):\n",
        "\n",
        "        if(cek+dataS[j][0]<=cap):\n",
        "            hasil=hasil+dataS[j][1]\n",
        "            weight=weight+dataS[j][0]\n",
        "            print(dataS[j][0])\n",
        "        cek=weight\n",
        "        j+=1;\n",
        "        #print(\"here\")\n",
        "    return(\"Optimal dalam \"+str(tres)+str(hasil))\n",
        "\n",
        "print(knapsack(item,20,0))\n",
        "print(knapsack(item,20,1))\n",
        "print(knapsack(item,20,2))"
      ],
      "metadata": {
        "colab": {
          "base_uri": "https://localhost:8080/"
        },
        "id": "YbIkFs66J8WK",
        "outputId": "81f20b4b-c652-4e38-e626-a5f0d8fce019"
      },
      "execution_count": 4,
      "outputs": [
        {
          "output_type": "stream",
          "name": "stdout",
          "text": [
            "9\n",
            "8\n",
            "3\n",
            "Optimal dalam bobot prioritas : 23\n",
            "9\n",
            "8\n",
            "3\n",
            "Optimal dalam keuntungan prioritas : 23\n",
            "1\n",
            "3\n",
            "4\n",
            "9\n",
            "Optimal dalam p prioritas : 22\n"
          ]
        }
      ]
    }
  ]
}
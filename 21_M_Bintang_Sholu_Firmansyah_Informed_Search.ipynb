{
  "nbformat": 4,
  "nbformat_minor": 0,
  "metadata": {
    "colab": {
      "provenance": [],
      "collapsed_sections": [],
      "authorship_tag": "ABX9TyP775LdiFXwG1Nq5udhB2sf",
      "include_colab_link": true
    },
    "kernelspec": {
      "name": "python3",
      "display_name": "Python 3"
    },
    "language_info": {
      "name": "python"
    }
  },
  "cells": [
    {
      "cell_type": "markdown",
      "metadata": {
        "id": "view-in-github",
        "colab_type": "text"
      },
      "source": [
        "<a href=\"https://colab.research.google.com/github/bintangsholu21/KecerdasanBuatan/blob/main/21_M_Bintang_Sholu_Firmansyah_Informed_Search.ipynb\" target=\"_parent\"><img src=\"https://colab.research.google.com/assets/colab-badge.svg\" alt=\"Open In Colab\"/></a>"
      ]
    },
    {
      "cell_type": "code",
      "execution_count": 16,
      "metadata": {
        "id": "h212dd8UqPvG"
      },
      "outputs": [],
      "source": [
        "class Graph:\n",
        "\n",
        "    def __init__(self, adjacency_list):\n",
        "      self.adjacency_list = adjacency_list\n",
        "\n",
        "    def get_neighbors(self, v):\n",
        "      return self.adjacency_list[v]\n",
        "\n",
        "    # heuristic function with equal values for all nodes\n",
        "    def h(self, n):\n",
        "      H = {\n",
        "          'A' : 1,\n",
        "          'B' : 1,\n",
        "          'C' : 1,\n",
        "          'D' : 1\n",
        "      }\n",
        "\n",
        "      return H[n]\n",
        "\n",
        "    def a_star_algorithm(self, start_node, stop_node):\n",
        "      # open_list is a list of nodes which have been visited, but who's neighbors\n",
        "      # haven't all been inspected, starts off with the start node\n",
        "      # closed_list is a list of nodes which have been visited\n",
        "      # and who's neighbors have been inspected\n",
        "      open_list = set([start_node])\n",
        "      closed_list = set([])\n",
        "\n",
        "      g = {}\n",
        "\n",
        "      g[start_node] = 0\n",
        "\n",
        "      parents = {}\n",
        "      parents[start_node] = start_node\n",
        "\n",
        "      while len(open_list) > 0:\n",
        "        n = None\n",
        "\n",
        "        for v in open_list:\n",
        "          if n == None or g[v] + self.h(v) < g[n] + self.h(n):\n",
        "            n = v;\n",
        "        if n == None:\n",
        "          print('Path does not exist!')\n",
        "          return None\n",
        "        \n",
        "        if n == stop_node:\n",
        "          reconst_path = []\n",
        "\n",
        "          while parents[n] != n:\n",
        "            reconst_path.append(n)\n",
        "            n = parents[n]\n",
        "\n",
        "            reconst_path.append(start_node)\n",
        "\n",
        "            reconst_path.reverse()\n",
        "\n",
        "            print('Path found: {}'.format(reconst_path))\n",
        "            return reconst_path\n",
        "\n",
        "        for (m, weight) in self.get_neighbors(n):\n",
        "          if m not in open_list and m not in closed_list:\n",
        "            open_list.add(m)\n",
        "            parents[m] = n\n",
        "            g[m] = g[n] + weight\n",
        "          \n",
        "          else:\n",
        "            if g[m] > g[n] + weight:\n",
        "              g[m] = g[n] + weight\n",
        "              parents[m] = n\n",
        "\n",
        "              if m in closed_list:\n",
        "                closed_list.remove(m)\n",
        "                open_list.add(m)\n",
        "\n",
        "        open_list.remove(n)\n",
        "        closed_list.add(n)\n",
        "      \n",
        "      print('Path does not exist!')\n",
        "      return None"
      ]
    },
    {
      "cell_type": "code",
      "source": [
        "DAG = {'A': {'C': 4, 'G': 9}, 'G': {'E': 6}, 'C': {'D': 6, 'H': 12}, 'D': {'E': 7}, 'H': {'F': 15}, 'E': {'F': 8}, 'F': {'B': 5}}"
      ],
      "metadata": {
        "id": "r9wq8_iW1zSd"
      },
      "execution_count": null,
      "outputs": []
    },
    {
      "cell_type": "code",
      "source": [
        "adjacency_list = {\n",
        "        'A' : [('B', 1), ('C', 3), ('D', 7)],\n",
        "        'B' : [('D', 5)],\n",
        "        'C' : [('D', 12)]\n",
        "}\n",
        "graph1 = Graph(adjacency_list)\n",
        "graph1.a_star_algorithm('A', 'D')"
      ],
      "metadata": {
        "colab": {
          "base_uri": "https://localhost:8080/"
        },
        "id": "CpsTHyrU0oc2",
        "outputId": "7dea32a3-0e39-4a72-8c39-8d46ad2b4ecd"
      },
      "execution_count": 20,
      "outputs": [
        {
          "output_type": "stream",
          "name": "stdout",
          "text": [
            "Path found: ['A', 'D']\n"
          ]
        },
        {
          "output_type": "execute_result",
          "data": {
            "text/plain": [
              "['A', 'D']"
            ]
          },
          "metadata": {},
          "execution_count": 20
        }
      ]
    },
    {
      "cell_type": "code",
      "source": [
        "DAG = {'A': {'C': 4, 'G': 9}, \n",
        "    'G': {'E': 6}, \n",
        "    'C': {'D': 6, 'H': 12}, \n",
        "    'D': {'E': 7}, \n",
        "    'H': {'F': 15}, \n",
        "    'E': {'F': 8}, \n",
        "    'F': {'B': 5}}\n",
        "\n",
        "def shortest_path(graph, source, dest): \n",
        "  result = [] \n",
        "  result.append(source) \n",
        "  \n",
        "  while dest not in result: \n",
        "    current_node = result[-1]\n",
        "    local_max = min(graph[current_node].values()) \n",
        "    for node, weight in graph[current_node].items(): \n",
        "      if weight == local_max: \n",
        "        result.append(node) \n",
        "  return result\n"
      ],
      "metadata": {
        "id": "ZB2acEOk16sz"
      },
      "execution_count": 23,
      "outputs": []
    },
    {
      "cell_type": "code",
      "source": [
        "from operator import itemgetter, attrgetter\n",
        "w = [3,4,1,7,6,8,9]\n",
        "p = [4,5,2,5,5,8,11]\n",
        "item = [[3,4],[4,5],[1,2],[7,5],[6,5],[8,8],[9,11]]"
      ],
      "metadata": {
        "id": "1lwBZ7Gw3NkT"
      },
      "execution_count": 29,
      "outputs": []
    },
    {
      "cell_type": "code",
      "source": [
        "i=0\n",
        "while i<len(item):\n",
        "    hasil = item[i][1]/item[i][0]\n",
        "    item[i].append(hasil)\n",
        "    i += 1\n",
        "\n",
        "data = sorted(item,key=itemgetter(2), reverse = True)\n",
        "\n",
        "def knapsack(data,cap,flag):\n",
        "    total=0\n",
        "    tres = \"\"\n",
        "    if(flag==0):\n",
        "        dataS = sorted(data,key=itemgetter(flag), reverse = True)\n",
        "        tres=\"bobot prioritas : \"\n",
        "    elif(flag==1):\n",
        "        dataS = sorted(data, key=itemgetter(flag), reverse = True)\n",
        "        tres=\"keuntungan prioritas : \"\n",
        "    elif(flag==2):\n",
        "        dataS = sorted(data,key=itemgetter(flag), reverse = True)\n",
        "        tres=\"p prioritas : \"\n",
        "    else:\n",
        "        return \"Error\"\n",
        "\n",
        "    j=0\n",
        "    hasil=0\n",
        "    #print(\"sini\")\n",
        "    cek=0\n",
        "    weight=0\n",
        "    while(j<len(dataS)):\n",
        "\n",
        "        if(cek+dataS[j][0]<=cap):\n",
        "            hasil=hasil+dataS[j][1]\n",
        "            weight=weight+dataS[j][0]\n",
        "            print(dataS[j][0])\n",
        "        cek=weight\n",
        "        j+=1;\n",
        "        #print(\"here\")\n",
        "    return(\"Optimal dalam \"+str(tres)+str(hasil))\n",
        "\n",
        "print(knapsack(item,20,0))\n",
        "print(knapsack(item,20,1))\n",
        "print(knapsack(item,20,2))"
      ],
      "metadata": {
        "colab": {
          "base_uri": "https://localhost:8080/"
        },
        "id": "UMBV_Sbz_1GD",
        "outputId": "34cb1b43-5c4e-4e4f-b412-feb443e81fb9"
      },
      "execution_count": 30,
      "outputs": [
        {
          "output_type": "stream",
          "name": "stdout",
          "text": [
            "9\n",
            "8\n",
            "3\n",
            "Optimal dalam bobot prioritas : 23\n",
            "9\n",
            "8\n",
            "3\n",
            "Optimal dalam keuntungan prioritas : 23\n",
            "1\n",
            "3\n",
            "4\n",
            "9\n",
            "Optimal dalam p prioritas : 22\n"
          ]
        }
      ]
    }
  ]
}